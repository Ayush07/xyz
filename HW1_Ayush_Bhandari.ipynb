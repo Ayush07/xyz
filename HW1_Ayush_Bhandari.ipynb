{
 "cells": [
  {
   "cell_type": "markdown",
   "metadata": {},
   "source": [
    "## Analytical Questions"
   ]
  },
  {
   "cell_type": "markdown",
   "metadata": {},
   "source": [
    "# Q1 a)"
   ]
  },
  {
   "cell_type": "markdown",
   "metadata": {},
   "source": [
    "## $f(Y_2,Y_1) = \\frac{1}{\\sqrt{2\\pi}\\sigma_1\\sigma_2\\sqrt{(1-\\rho^2)}}e^{-\\frac{1}{2(1-\\rho^2)}[\\frac{(Y_2-\\mu_2)^2}{\\sigma_2^2}-2\\rho\\frac{(Y_1-\\mu_1)(Y_2-\\mu_2)}{\\sigma_1\\sigma_2}+\\frac{(Y_1-\\mu_1)^2}{\\sigma_1^2}]}\\$\n",
    "\n",
    "### Non Matrix Form"
   ]
  },
  {
   "cell_type": "markdown",
   "metadata": {},
   "source": [
    "   $\n",
    "   f(Y_2,Y_1) = \\frac{1}{\\sqrt{2\\pi}\\sigma_1\\sigma_2\\sqrt{(1-\\rho^2)}}e^{-\\frac{1}{2(1-\\rho^2)}[\\frac{(Y_2-\\mu_2)^2}{\\sigma_2^2}-2\\rho\\frac{(Y_1-\\mu_1)(Y_2-\\mu_2)}{\\sigma_1\\sigma_2}+\\frac{(Y_1-\\mu_1)^2}{\\sigma_1^2}]}\\\n",
    "   $"
   ]
  },
  {
   "cell_type": "markdown",
   "metadata": {},
   "source": [
    "## $\\begin{bmatrix} Y_2 \\\\ Y_1 \\end{bmatrix} \\sim MVN(\\begin{bmatrix} \\mu_2 \\\\ \\mu_1 \\end{bmatrix},\\begin{bmatrix} \\sigma_2^2 & \\rho\\sigma_1\\sigma_2 \\\\ \\rho\\sigma_1\\sigma_2 & \\sigma_1^2 \\end{bmatrix}  ) $ \n",
    "\n",
    "\n",
    "### Matrix Form\n",
    "\n"
   ]
  },
  {
   "cell_type": "markdown",
   "metadata": {},
   "source": [
    "## Meaning of each term\n",
    "\n",
    "### $x$\n"
   ]
  },
  {
   "cell_type": "code",
   "execution_count": null,
   "metadata": {},
   "outputs": [],
   "source": []
  },
  {
   "cell_type": "code",
   "execution_count": null,
   "metadata": {},
   "outputs": [],
   "source": []
  },
  {
   "cell_type": "code",
   "execution_count": null,
   "metadata": {},
   "outputs": [],
   "source": []
  },
  {
   "cell_type": "code",
   "execution_count": null,
   "metadata": {},
   "outputs": [],
   "source": []
  },
  {
   "cell_type": "code",
   "execution_count": null,
   "metadata": {},
   "outputs": [],
   "source": []
  },
  {
   "cell_type": "code",
   "execution_count": null,
   "metadata": {},
   "outputs": [],
   "source": []
  },
  {
   "cell_type": "code",
   "execution_count": null,
   "metadata": {},
   "outputs": [],
   "source": []
  },
  {
   "cell_type": "code",
   "execution_count": null,
   "metadata": {},
   "outputs": [],
   "source": []
  },
  {
   "cell_type": "code",
   "execution_count": null,
   "metadata": {},
   "outputs": [],
   "source": []
  },
  {
   "cell_type": "code",
   "execution_count": null,
   "metadata": {},
   "outputs": [],
   "source": []
  }
 ],
 "metadata": {
  "kernelspec": {
   "display_name": "Python 3",
   "language": "python",
   "name": "python3"
  },
  "language_info": {
   "codemirror_mode": {
    "name": "ipython",
    "version": 3
   },
   "file_extension": ".py",
   "mimetype": "text/x-python",
   "name": "python",
   "nbconvert_exporter": "python",
   "pygments_lexer": "ipython3",
   "version": "3.6.7"
  }
 },
 "nbformat": 4,
 "nbformat_minor": 2
}
